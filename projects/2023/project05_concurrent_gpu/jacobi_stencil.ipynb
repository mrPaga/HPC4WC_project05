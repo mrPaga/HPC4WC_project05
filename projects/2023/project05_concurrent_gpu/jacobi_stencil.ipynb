{
 "cells": [
  {
   "cell_type": "code",
   "execution_count": 46,
   "id": "795e7b15-20a6-4c6c-8b66-5e36554a8c20",
   "metadata": {},
   "outputs": [
    {
     "data": {
      "text/plain": [
       "'\\ndef jacobi_stencil_3d(in_field, out_field, n_halo, alpha, beta):\\n    # Checks\\n    assert len(in_field.shape) == 2\\n    assert len(out_field.shape) == 2\\n    h,w = out_field.shape\\n    h_in_,w_in_ = in_field.shape\\n    assert h_in_ == h + 2*n_halo\\n    assert w_in_ == w + 2*n_halo\\n\\n    # Example with a simple Gaussian filter\\n    # IMPORTANT always have an expected halo\\n    assert n_halo == 1\\n\\n    # Computation\\n    out_field[:,:] = (\\n        alpha * in_field[1:-1, 1:-1]\\n        + beta * ( in_field[2:, 1:-1]+  in_field[:-2, 1:-1]\\n        +  in_field[1:-1, 2:]+  in_field[1:-1, :-2] )\\n    )\\n'"
      ]
     },
     "execution_count": 46,
     "metadata": {},
     "output_type": "execute_result"
    }
   ],
   "source": [
    "def jacobi_stencil_2d(in_field, out_field, n_halo, alpha, beta):\n",
    "    # Checks\n",
    "    assert len(in_field.shape) == 2\n",
    "    assert len(out_field.shape) == 2\n",
    "    h,w = out_field.shape\n",
    "    h_in_,w_in_ = in_field.shape\n",
    "    assert h_in_ == h + 2*n_halo\n",
    "    assert w_in_ == w + 2*n_halo\n",
    "\n",
    "    # Example with a jacobian stencil\n",
    "    # IMPORTANT always have an expected halo\n",
    "    assert n_halo == 1\n",
    "\n",
    "    # Computation\n",
    "    out_field[:,:] = (\n",
    "        alpha * in_field[1:-1, 1:-1]\n",
    "        + beta * ( in_field[2:, 1:-1]+  in_field[:-2, 1:-1]\n",
    "        +  in_field[1:-1, 2:]+  in_field[1:-1, :-2] )\n",
    "    )\n",
    "\n",
    "\n",
    "\"\"\"\n",
    "def jacobi_stencil_3d(in_field, out_field, n_halo, alpha, beta):\n",
    "    # Checks\n",
    "    assert len(in_field.shape) == 2\n",
    "    assert len(out_field.shape) == 2\n",
    "    h,w = out_field.shape\n",
    "    h_in_,w_in_ = in_field.shape\n",
    "    assert h_in_ == h + 2*n_halo\n",
    "    assert w_in_ == w + 2*n_halo\n",
    "\n",
    "    # Example with a simple Gaussian filter\n",
    "    # IMPORTANT always have an expected halo\n",
    "    assert n_halo == 1\n",
    "\n",
    "    # Computation\n",
    "    out_field[:,:] = (\n",
    "        alpha * in_field[1:-1, 1:-1]\n",
    "        + beta * ( in_field[2:, 1:-1]+  in_field[:-2, 1:-1]\n",
    "        +  in_field[1:-1, 2:]+  in_field[1:-1, :-2] )\n",
    "        +in_field[2:, 1:-1]+  in_field[:-2, 1:-1]\n",
    "        +  in_field[1:-1, 2:]+  in_field[1:-1, :-2] )\n",
    "        in_field[2:, 1:-1]+  in_field[:-2, 1:-1]\n",
    "        +  in_field[1:-1, 2:]+  in_field[1:-1, :-2])\n",
    "    )\n",
    "\"\"\""
   ]
  },
  {
   "cell_type": "code",
   "execution_count": 29,
   "id": "1e5becf2-c226-4299-8252-ddc9f5f1f743",
   "metadata": {},
   "outputs": [
    {
     "name": "stdout",
     "output_type": "stream",
     "text": [
      "True\n"
     ]
    }
   ],
   "source": [
    "print(len(np.where(u!=phi)[0])>0)"
   ]
  }
 ],
 "metadata": {
  "kernelspec": {
   "display_name": "Python 3 (ipykernel)",
   "language": "python",
   "name": "python3"
  },
  "language_info": {
   "codemirror_mode": {
    "name": "ipython",
    "version": 3
   },
   "file_extension": ".py",
   "mimetype": "text/x-python",
   "name": "python",
   "nbconvert_exporter": "python",
   "pygments_lexer": "ipython3",
   "version": "3.11.5"
  }
 },
 "nbformat": 4,
 "nbformat_minor": 5
}
