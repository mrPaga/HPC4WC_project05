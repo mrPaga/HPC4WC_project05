{
 "cells": [
  {
   "cell_type": "markdown",
   "id": "4b38a7dc-a3e6-4d3e-bf75-913195e97930",
   "metadata": {},
   "source": [
    "# Asynchronous and concurrent execution on GPUs\n",
    ">*Melina Abeling, Julian Aeissen, Michele Pagani*. Supervised by *Oliver Fuhrer*\n",
    "\n",
    "*GPUs allow for asynchronous (CPU simply launches work on GPU and then continues) and concurrent (multiple tasks are executed in parallel on the GPU) execution. In this project you will implement a simple stencil program and investigate performance using different stencil motifs as a function of grid size and amount of concurrency. It is foreseen to use either CuPy or CUDA for this project.*\n"
   ]
  },
  {
   "cell_type": "code",
   "execution_count": null,
   "id": "deccbd0a-cc2c-4702-b387-137c873485ff",
   "metadata": {},
   "outputs": [],
   "source": [
    "import timeit\n",
    "import numpy as np\n",
    "import cupy as cp\n",
    "import matplotlib.pyplot as plt"
   ]
  }
 ],
 "metadata": {
  "kernelspec": {
   "display_name": "HPC4WC_kernel",
   "language": "python",
   "name": "hpc4wc_kernel"
  },
  "language_info": {
   "codemirror_mode": {
    "name": "ipython",
    "version": 3
   },
   "file_extension": ".py",
   "mimetype": "text/x-python",
   "name": "python",
   "nbconvert_exporter": "python",
   "pygments_lexer": "ipython3",
   "version": "3.9.4"
  }
 },
 "nbformat": 4,
 "nbformat_minor": 5
}
