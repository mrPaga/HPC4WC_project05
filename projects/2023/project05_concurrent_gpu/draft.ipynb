{
 "cells": [
  {
   "cell_type": "markdown",
   "id": "4b38a7dc-a3e6-4d3e-bf75-913195e97930",
   "metadata": {},
   "source": [
    "# Asynchronous and concurrent execution on GPUs\n",
    ">*Melina Abeling, Julian Aeissen, Michele Pagani*. Supervised by *Oliver Fuhrer*\n",
    "\n",
    "*GPUs allow for asynchronous (CPU simply launches work on GPU and then continues) and concurrent (multiple tasks are executed in parallel on the GPU) execution. In this project you will implement a simple stencil program and investigate performance using different stencil motifs as a function of grid size and amount of concurrency. It is foreseen to use either CuPy or CUDA for this project.*\n"
   ]
  },
  {
   "cell_type": "markdown",
   "id": "65ecfad7-5447-4b20-bc89-8fa13553a3f1",
   "metadata": {},
   "source": [
    "---"
   ]
  },
  {
   "cell_type": "markdown",
   "id": "5e21966f-dae4-4416-b588-64a9ed5afa2d",
   "metadata": {
    "tags": []
   },
   "source": [
    "## Introduction\n",
    "*TODO*"
   ]
  },
  {
   "cell_type": "markdown",
   "id": "4510f53b-5a4f-485a-b825-9201283afe8e",
   "metadata": {},
   "source": [
    "---"
   ]
  },
  {
   "cell_type": "markdown",
   "id": "5a80b1f4-7360-41ab-afc1-d108a1e2bc27",
   "metadata": {},
   "source": [
    "## Methods\n",
    "*TODO*"
   ]
  },
  {
   "cell_type": "code",
   "execution_count": null,
   "id": "deccbd0a-cc2c-4702-b387-137c873485ff",
   "metadata": {},
   "outputs": [],
   "source": [
    "# Imports\n",
    "import time\n",
    "import numpy as np\n",
    "import cupy as cp\n",
    "import matplotlib.pyplot as plt"
   ]
  },
  {
   "cell_type": "code",
   "execution_count": null,
   "id": "beb9cd56-9caf-4d4d-95a7-e83d1929d981",
   "metadata": {},
   "outputs": [],
   "source": [
    "# Utils\n"
   ]
  },
  {
   "cell_type": "markdown",
   "id": "7bfc9410-b91e-4bcf-b47b-adb00ce6db95",
   "metadata": {},
   "source": [
    "### Stencils\n",
    "*TODO*"
   ]
  },
  {
   "cell_type": "markdown",
   "id": "4f574e26-c429-4662-ba7d-af5aac6b9723",
   "metadata": {},
   "source": [
    "#### A\n",
    "*TODO*"
   ]
  },
  {
   "cell_type": "code",
   "execution_count": null,
   "id": "ab39c47d-2cb1-40a4-9517-c3cb30b6ac83",
   "metadata": {},
   "outputs": [],
   "source": [
    "def step_stencil_a(field):\n",
    "    pass"
   ]
  },
  {
   "cell_type": "markdown",
   "id": "26b3467a-7b93-4fe7-9542-c5b97f917093",
   "metadata": {},
   "source": [
    "#### B\n",
    "*TODO*"
   ]
  },
  {
   "cell_type": "code",
   "execution_count": null,
   "id": "99624a03-0c3d-4447-88ff-865586ad8769",
   "metadata": {},
   "outputs": [],
   "source": [
    "def step_stencil_b(field):\n",
    "    pass"
   ]
  },
  {
   "cell_type": "markdown",
   "id": "21e78861-e85e-49f0-90c3-3e64c8b046ee",
   "metadata": {
    "tags": []
   },
   "source": [
    "### Sequential\n",
    "*TODO*"
   ]
  },
  {
   "cell_type": "code",
   "execution_count": null,
   "id": "1f497242-a9b3-4528-8301-91eae58d68fc",
   "metadata": {},
   "outputs": [],
   "source": [
    "def sequential_computation(stencil, field):\n",
    "    pass"
   ]
  },
  {
   "cell_type": "markdown",
   "id": "d2618fb9-7531-4e83-8145-8f41dcfe1b34",
   "metadata": {
    "tags": []
   },
   "source": [
    "### Concurrent\n",
    "*TODO*"
   ]
  },
  {
   "cell_type": "code",
   "execution_count": null,
   "id": "a9fa7978-6caf-4699-9f6e-b638b2ab9254",
   "metadata": {},
   "outputs": [],
   "source": [
    "def compute_gpu(stencil, input_field, n_stream):\n",
    "    pass"
   ]
  },
  {
   "cell_type": "markdown",
   "id": "fa727537-b707-4335-bcc0-d8e1ce919daa",
   "metadata": {
    "tags": []
   },
   "source": [
    "### Initial field\n",
    "*TODO*"
   ]
  },
  {
   "cell_type": "code",
   "execution_count": null,
   "id": "b674f53c-ede0-4119-bad1-dd5c9374ab19",
   "metadata": {},
   "outputs": [],
   "source": [
    "def get_initial_field(size):\n",
    "    pass"
   ]
  },
  {
   "cell_type": "markdown",
   "id": "d2713a5e-02f5-4235-9644-ba42b0786d94",
   "metadata": {},
   "source": [
    "---"
   ]
  },
  {
   "cell_type": "markdown",
   "id": "e7b9482b-1549-45b1-a7eb-7fcb64228a70",
   "metadata": {},
   "source": [
    "## Results\n",
    "*TODO*"
   ]
  },
  {
   "cell_type": "markdown",
   "id": "a977e183-5544-4a16-aa87-14e12fc73a2c",
   "metadata": {},
   "source": [
    "### Performance over concurrency\n",
    "*TODO*"
   ]
  },
  {
   "cell_type": "code",
   "execution_count": null,
   "id": "f410f2ca-cf08-4f4c-8d28-9d70ca81c936",
   "metadata": {},
   "outputs": [],
   "source": [
    "# Settings\n",
    "steps_concurrency = [1, 2, 4, 8, 16, 32]\n",
    "field_size = 512*512\n",
    "\n",
    "# Setup\n",
    "input_field_concur = get_initial_field(field_size)\n",
    "output_fields_a_concur = []\n",
    "output_fields_b_concur = []\n",
    "times_a_concur = []\n",
    "times_b_concur = []\n",
    "\n",
    "for concurrency in steps_concurrency:\n",
    "\n",
    "    # Compute for stencil A\n",
    "    tic = time.perf_counter()\n",
    "    output_fields_a_concur.append(compute_gpu(step_stencil_a, input_field_concur, concurrency))\n",
    "    times_a_concur.append(time.perf_counter())\n",
    "\n",
    "    # Compute for stencil B\n",
    "    tic = time.perf_counter()\n",
    "    output_fields_b_concur.append(compute_gpu(step_stencil_b, input_field_concur, concurrency))\n",
    "    times_b_concur.append(time.perf_counter())\n"
   ]
  },
  {
   "cell_type": "code",
   "execution_count": null,
   "id": "70322fdc-04df-4af9-a701-31e57b1b3c76",
   "metadata": {},
   "outputs": [],
   "source": [
    "# Plots\n",
    "plt.title(\"Concurrency analysis\")\n",
    "\n",
    "plt.plot(steps_concurrency, times_a_concur, label = \"Stencil A\")\n",
    "plt.plot(steps_concurrency, times_b_concur, label = \"Stencil B\")\n",
    "\n",
    "plt.xlabel('# streams')\n",
    "plt.ylabel('Time [s]')\n",
    "plt.legend()\n"
   ]
  },
  {
   "cell_type": "markdown",
   "id": "11e8f15a-9d95-455b-99d9-5246450b9bbd",
   "metadata": {},
   "source": [
    "### Performance over grid size\n",
    "*TODO*"
   ]
  },
  {
   "cell_type": "code",
   "execution_count": null,
   "id": "2d8e0232-79a6-4b62-874b-092051886c3c",
   "metadata": {},
   "outputs": [],
   "source": [
    "# TODO"
   ]
  },
  {
   "cell_type": "code",
   "execution_count": null,
   "id": "99fe1cab-a36f-4352-adbf-deaf1577d352",
   "metadata": {},
   "outputs": [],
   "source": [
    "# Plots"
   ]
  },
  {
   "cell_type": "markdown",
   "id": "8d0589ea-97f2-4cec-aee4-cd512b161b91",
   "metadata": {},
   "source": [
    "---"
   ]
  },
  {
   "cell_type": "markdown",
   "id": "5077d101-8c47-4a01-a5d3-8a13a0a5e6a0",
   "metadata": {},
   "source": [
    "## Discussion\n",
    "*TODO*"
   ]
  },
  {
   "cell_type": "markdown",
   "id": "d7f3dd28-0929-400e-8a28-38889de8f6e5",
   "metadata": {},
   "source": [
    "---"
   ]
  },
  {
   "cell_type": "markdown",
   "id": "a3079ad7-752e-4b49-976a-eac724943c24",
   "metadata": {},
   "source": [
    "## Conclusion\n",
    "*TODO*"
   ]
  },
  {
   "cell_type": "code",
   "execution_count": null,
   "id": "6070f156-09b6-497d-a5c1-fd92b3fa2f65",
   "metadata": {},
   "outputs": [],
   "source": []
  }
 ],
 "metadata": {
  "kernelspec": {
   "display_name": "Python 3 (ipykernel)",
   "language": "python",
   "name": "python3"
  },
  "language_info": {
   "codemirror_mode": {
    "name": "ipython",
    "version": 3
   },
   "file_extension": ".py",
   "mimetype": "text/x-python",
   "name": "python",
   "nbconvert_exporter": "python",
   "pygments_lexer": "ipython3",
   "version": "3.11.4"
  }
 },
 "nbformat": 4,
 "nbformat_minor": 5
}
