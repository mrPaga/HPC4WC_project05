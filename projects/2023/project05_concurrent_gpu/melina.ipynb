{
 "cells": [
  {
   "cell_type": "code",
   "execution_count": null,
   "id": "209285bf-86f4-46bd-a71e-2b351af8fc83",
   "metadata": {},
   "outputs": [],
   "source": [
    "# Workspace to work, to avoid mess with git stuff"
   ]
  },
  {
   "cell_type": "code",
   "execution_count": null,
   "id": "5f7db1d0",
   "metadata": {},
   "outputs": [],
   "source": [
    "# Imports\n",
    "import time\n",
    "import numpy as np\n",
    "import cupy as cp\n",
    "import matplotlib.pyplot as plt"
   ]
  },
  {
   "attachments": {},
   "cell_type": "markdown",
   "id": "438d1ee5",
   "metadata": {},
   "source": [
    "## Introduction\n",
    "\n",
    "<div style='text-align: justify;\n",
    "            width: 90%;'>\n",
    "In order to better represent earth´s complex climate the resolution of climate models is becoming continuously higher which improves the skill of climate and weather models forecasts. In numerical weather predictions the grid consisting of cells or points, for example an icosahedron (ICON-model) sphere, is projected on the globe to discretize and solve the governing, often differential equations, for the whole grid size (Zängel et al., 2015, Wahib 2014). Associated with the higher spatial resolution is a need for higher computing power, as it means a finer grid consisting of more cells and points for which calculations have to be done in greater detail.\n",
    "Here, high performance computing and especially Graphical Process Units (GPU´s), hardware that accellerates computing also due to the ability to process multiple tasks in parallel, are important to meet the demand for better computing performance. \n",
    "One method commonly used to solve the necessary partial differential equations in climate models are stencil motivs (Schäfer & Fey, 2011; Wahib 2014).\n",
    "Those algorithms are space and time discrete that uniformly compute the value of a specific grid point based on its own value and those of its neigbouring grid points (Schäfer & Fey, 2011).\n",
    "<br>    <br> \n",
    "Specific stencil motif we use?\n",
    "<br>    <br> \n",
    "\n",
    "This project aims to investigate how the maxminum efficiency for various sized tasks differ for asynchronous and concurrent execution on GPUs or if it is even possible to reach a total utilization of the available hardware. For this a simple laplacian/Jacobian???\n",
    "\n",
    "In which scenarios which execution leads to maximum efficiency/ or maximum efficiency could not be reached XXX\n",
    "\n",
    "</div>\n",
    "\n",
    "***"
   ]
  },
  {
   "attachments": {},
   "cell_type": "markdown",
   "id": "abd02f91",
   "metadata": {},
   "source": [
    "## Methods\n",
    "\n",
    "<div style='text-align: justify;\n",
    "            width: 90%;'>\n",
    "To investigate whether or better when asynchronous or concurrent execution on GPUs is most preferable, different scenarios where applied. Therefore different stencil motifs as a function of grid size and amount of concurrency are applied (see DIAGRAM). \n",
    "\n",
    "Laplacian?\n",
    "Jacobi?\n",
    "\n",
    "<br>    <br> \n",
    "few small tasks   |  medium amount of small tasks    |  many small tasks\n",
    "\n",
    "few big tasks       |  medium amount of big tasks \t |  many big tasks\n",
    "\n",
    "few mixed tasks  |  medium amount of mixed tasks   |  many mixed tasks\n",
    "<br>    <br> \n",
    "</div>\n",
    "\n",
    "\n",
    "\n",
    "***\n",
    "\n"
   ]
  },
  {
   "attachments": {},
   "cell_type": "markdown",
   "id": "0353dc78",
   "metadata": {},
   "source": [
    "## Results\n",
    "\n",
    "<div style='text-align: justify;\n",
    "            width: 90%;'>\n",
    "\n",
    "<br>    <br> \n",
    "</div>\n",
    "\n",
    "\n",
    "\n",
    "***"
   ]
  },
  {
   "attachments": {},
   "cell_type": "markdown",
   "id": "96ef8e6e",
   "metadata": {},
   "source": [
    "## Conclusion\n",
    "\n",
    "<div style='text-align: justify;\n",
    "            width: 90%;'>\n",
    "This work demonstrated how \n",
    "\n",
    "<br>    <br> \n",
    "\n",
    "Further investigations on how \n",
    "</div>\n",
    "\n",
    "\n",
    "\n",
    "***"
   ]
  },
  {
   "attachments": {},
   "cell_type": "markdown",
   "id": "7491e287",
   "metadata": {},
   "source": [
    "## References"
   ]
  },
  {
   "cell_type": "markdown",
   "id": "b20ab1eb",
   "metadata": {},
   "source": []
  }
 ],
 "metadata": {
  "kernelspec": {
   "display_name": "Python 3 (ipykernel)",
   "language": "python",
   "name": "python3"
  },
  "language_info": {
   "codemirror_mode": {
    "name": "ipython",
    "version": 3
   },
   "file_extension": ".py",
   "mimetype": "text/x-python",
   "name": "python",
   "nbconvert_exporter": "python",
   "pygments_lexer": "ipython3",
   "version": "3.11.4"
  }
 },
 "nbformat": 4,
 "nbformat_minor": 5
}
